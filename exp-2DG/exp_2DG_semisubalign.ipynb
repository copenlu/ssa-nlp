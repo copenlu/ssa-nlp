{
 "cells": [
  {
   "cell_type": "markdown",
   "metadata": {},
   "source": [
    "# 2D Gaussians problem setting\n",
    "\n",
    "I'll be showing the difference between subspace alignment based purely on components and class-specific, or semi-supervised, subspace alignment. "
   ]
  },
  {
   "cell_type": "code",
   "execution_count": 1,
   "metadata": {},
   "outputs": [],
   "source": [
    "import numpy as np\n",
    "import numpy.random as rnd\n",
    "import scipy.stats as st\n",
    "import scipy.linalg as alg"
   ]
  },
  {
   "cell_type": "code",
   "execution_count": 2,
   "metadata": {},
   "outputs": [],
   "source": [
    "import sys\n",
    "sys.path.append(\"..\")\n",
    "from subalign import SubspaceAlignedClassifier, SemiSubspaceAlignedClassifier"
   ]
  },
  {
   "cell_type": "code",
   "execution_count": 3,
   "metadata": {},
   "outputs": [],
   "source": [
    "%matplotlib inline\n",
    "import seaborn as sns\n",
    "import matplotlib\n",
    "import matplotlib.pyplot as plt\n",
    "from mpl_toolkits.mplot3d import Axes3D\n",
    "sns.set(style=\"whitegrid\")\n",
    "\n",
    "fS = 24\n",
    "font = {'weight' : 'bold', 'size'   : fS}\n",
    "matplotlib.rc('font', **font)"
   ]
  },
  {
   "cell_type": "code",
   "execution_count": 14,
   "metadata": {},
   "outputs": [],
   "source": [
    "'''Generate data'''\n",
    "\n",
    "# Dimensionality\n",
    "D = 2\n",
    "\n",
    "# Subspace dim\n",
    "d = 2\n",
    "\n",
    "# Number of classes\n",
    "K = 2\n",
    "\n",
    "# Sample sizes\n",
    "N = 100\n",
    "N0 = 50\n",
    "N1 = N - N0\n",
    "M = 100\n",
    "M0 = 50\n",
    "M1 = M - M0\n",
    "\n",
    "if K == 1:\n",
    "    \n",
    "    if D == 2:\n",
    "\n",
    "        muS = np.array([0, 1])\n",
    "        muT = np.array([1, 0])\n",
    "        SiS = np.array([[3, 0],[0, .1]])\n",
    "        SiT = np.array([[3, 0],[0, .1]])\n",
    "\n",
    "    elif D == 3:\n",
    "\n",
    "        muS = np.array([-2, 1, 0])\n",
    "        muT = np.array([1, 2, 0])\n",
    "        SiS = np.array([[1, 0, 0],[0, 1, 0], [0, 0, 1]])/10\n",
    "        SiT = np.array([[1, 0, 0],[0, 1, 0], [0, 0, 1]])/10\n",
    "\n",
    "    pS = st.multivariate_normal(muS, SiS)\n",
    "    pT = st.multivariate_normal(muT, SiT)\n",
    "\n",
    "    X = pS.rvs(N[0])\n",
    "    Y = np.zeros((N[0],))\n",
    "\n",
    "    Z = pT.rvs(M[0])\n",
    "    U = np.zeros((M[0],))\n",
    "\n",
    "elif K == 2:\n",
    "\n",
    "    if D == 2:\n",
    "\n",
    "        muS0 = np.array([-3, -1])\n",
    "        muS1 = np.array([2, 1])\n",
    "        muT0 = np.array([1, 2])\n",
    "        muT1 = np.array([0, -2])\n",
    "        SiS0 = np.array([[1.2, 0.5],[0.5, 1]])/10\n",
    "        SiS1 = np.array([[1.2, 0.5],[0.5, 1]])/10\n",
    "        SiT0 = np.array([[1, 0.8],[0.8, 1]])/10\n",
    "        SiT1 = np.array([[1, 0.8],[0.8, 1]])/10\n",
    "\n",
    "    elif D == 3:\n",
    "\n",
    "        muS0 = np.array([0, 0, 0])\n",
    "        muS1 = np.array([2, 2, 2])\n",
    "        muT0 = np.array([1, 0, 1])\n",
    "        muT1 = np.array([0, 1, 0])\n",
    "        SiS0 = np.array([[1.2, 0.8, 0.3],[0.8, 1, 0.3], [0.3, 0.3, 1]]) / 10\n",
    "        SiS1 = np.array([[1.2, 0.8, 0.3],[0.8, 1, 0.3], [0.3, 0.3, 1]]) / 10\n",
    "        SiT0 = np.array([[1.5, 0.9, 1.1],[0.9, 1.6, 0.3], [1.1, 0.3, 1.2]]) / 10\n",
    "        SiT1 = np.array([[1.5, 0.9, 1.1],[0.9, 1.6, 0.3], [1.1, 0.3, 1.2]]) / 10\n",
    "\n",
    "    pS0 = st.multivariate_normal(muS0, SiS0)\n",
    "    pS1 = st.multivariate_normal(muS1, SiS1)\n",
    "    pT0 = st.multivariate_normal(muT0, SiT0)\n",
    "    pT1 = st.multivariate_normal(muT1, SiT1)\n",
    "\n",
    "    X = np.concatenate((pS0.rvs(N0), pS1.rvs(N1)), axis=0)\n",
    "    Y = np.concatenate((np.zeros((N0,)), np.ones(N1,)), axis=0)\n",
    "\n",
    "    Z = np.concatenate((pT0.rvs(M0), pT1.rvs(M1)), axis=0)\n",
    "    U = np.concatenate((np.zeros((M0,)), np.ones(M1,)), axis=0)\n",
    "    \n",
    "# Z-score data\n",
    "X = st.zscore(X)\n",
    "Z = st.zscore(Z)"
   ]
  },
  {
   "cell_type": "code",
   "execution_count": 15,
   "metadata": {},
   "outputs": [
    {
     "data": {
      "image/png": "[encoded data removed]",
      "text/plain": [
       "<Figure size 1080x360 with 2 Axes>"
      ]
     },
     "metadata": {
      "needs_background": "light"
     },
     "output_type": "display_data"
    }
   ],
   "source": [
    "# Visualize data\n",
    "\n",
    "fig = plt.figure(figsize=(15,5))\n",
    "\n",
    "if D == 2:\n",
    "        \n",
    "    ax0 = fig.add_subplot(121)\n",
    "    \n",
    "    ax0.set_xlim([-4,4])\n",
    "    ax0.set_ylim([-4,4])\n",
    "    \n",
    "    ax0.scatter(X[Y == 0, 0], X[Y == 0, 1], c='r')\n",
    "    ax0.scatter(X[Y == 1, 0], X[Y == 1, 1], c='b')\n",
    "    ax0.set_xlabel('$x_1$', fontsize=fS)\n",
    "    ax0.set_ylabel('$x_2$', fontsize=fS)\n",
    "    ax0.set_title('$Source$', fontsize=fS)\n",
    "\n",
    "    ax1 = fig.add_subplot(122, sharex=ax0, sharey=ax0)\n",
    "    ax1.scatter(Z[U == 0, 0], Z[U == 0, 1], c='r')\n",
    "    ax1.scatter(Z[U == 1, 0], Z[U == 1, 1], c='b')\n",
    "    ax1.set_xlabel('$x_1$', fontsize=fS)\n",
    "    ax1.set_ylabel('$x_2$', fontsize=fS)\n",
    "    ax1.set_title('$Target$', fontsize=fS);\n",
    "\n",
    "elif D == 3:\n",
    "\n",
    "    ax0 = fig.add_subplot(121, projection='3d')\n",
    "\n",
    "    ax0.scatter(X[Y == 0, 0], X[Y == 0, 1], X[Y == 0, 2], c='r')\n",
    "    ax0.scatter(X[Y == 1, 0], X[Y == 1, 1], X[Y == 0, 2], c='b')\n",
    "    ax0.set_xlabel('$x_1$', fontsize=fS)\n",
    "    ax0.set_ylabel('$x_2$', fontsize=fS)\n",
    "    ax0.set_zlabel('$x_3$', fontsize=fS)\n",
    "    ax0.set_title('$Source$', fontsize=fS)\n",
    "\n",
    "    ax1 = fig.add_subplot(122, sharex=ax0, sharey=ax0, sharez=ax0, projection='3d')\n",
    "    ax1.scatter(Z[U == 0, 0], Z[U == 0, 1], Z[U == 0, 1], c='r')\n",
    "    ax1.scatter(Z[U == 1, 0], Z[U == 1, 1], Z[U == 0, 1], c='b')\n",
    "    ax1.set_xlabel('$x_1$', fontsize=fS)\n",
    "    ax1.set_ylabel('$x_2$', fontsize=fS)\n",
    "    ax1.set_zlabel('$x_3$', fontsize=fS)\n",
    "    ax1.set_title('$Target$', fontsize=fS)\n",
    "    \n",
    "fig.savefig('viz/2DG_problem-setting.png', bbox_inches='tight', padding=None)"
   ]
  },
  {
   "cell_type": "code",
   "execution_count": 16,
   "metadata": {},
   "outputs": [],
   "source": [
    "# Domain means\n",
    "muX = np.mean(X, axis=0)[:, np.newaxis].T\n",
    "muZ = np.mean(Z, axis=0)[:, np.newaxis].T\n",
    "\n",
    "# Centered data\n",
    "X_ = X - muX\n",
    "Z_ = Z - muZ\n",
    "\n",
    "# Estimate principal components manually\n",
    "aX, CX = alg.eig(np.cov(X_.T))\n",
    "aZ, CZ = alg.eig(np.cov(Z_.T))\n",
    "\n",
    "# Sort components on decreasing eigenvalues\n",
    "ixX = np.argsort(aX)[::-1]\n",
    "CX = CX[ixX,:]\n",
    "ixZ = np.argsort(aZ)[::-1]\n",
    "CZ = CZ[ixZ,:]"
   ]
  },
  {
   "cell_type": "code",
   "execution_count": 17,
   "metadata": {},
   "outputs": [],
   "source": [
    "'''Find transformation'''\n",
    "\n",
    "# Optimal linear transformation matrix\n",
    "V = CX.T @ CZ\n",
    "\n",
    "# Map source data onto source principal components\n",
    "XC = X @ CX\n",
    "\n",
    "# Map source data onto source principal components and align to target components\n",
    "XV = X @ CX @ V\n",
    "\n",
    "# Map target data onto target principal components\n",
    "ZC = X @ CZ"
   ]
  },
  {
   "cell_type": "code",
   "execution_count": 18,
   "metadata": {},
   "outputs": [
    {
     "data": {
      "image/png": "[encoded data removed]",
      "text/plain": [
       "<Figure size 1080x288 with 3 Axes>"
      ]
     },
     "metadata": {
      "needs_background": "light"
     },
     "output_type": "display_data"
    }
   ],
   "source": [
    "# Visualize data\n",
    "\n",
    "fig, ax = plt.subplots(ncols=3, sharex=True, sharey=True, figsize=(15,4))\n",
    "\n",
    "ax[0].set_xlim([-4,4])\n",
    "ax[0].set_ylim([-4,4])\n",
    "\n",
    "ax[0].scatter(XC[Y == 0, 0], XC[Y == 0, 1], c='r')\n",
    "ax[0].scatter(XC[Y == 1, 0], XC[Y == 1, 1], c='b')\n",
    "ax[0].set_xlabel('$x_1$', fontsize=fS)\n",
    "ax[0].set_ylabel('$x_2$', fontsize=fS)\n",
    "ax[0].set_title('$Source$', fontsize=fS)\n",
    "\n",
    "ax[1].scatter(XV[Y == 0, 0], XV[Y == 0, 1], c='r')\n",
    "ax[1].scatter(XV[Y == 1, 0], XV[Y == 1, 1], c='b')\n",
    "ax[1].set_xlabel('$x_1$', fontsize=fS)\n",
    "ax[1].set_title('$Aligned$', fontsize=fS);\n",
    "\n",
    "ax[2].scatter(ZC[U == 0, 0], ZC[U == 0, 1], c='r')\n",
    "ax[2].scatter(ZC[U == 1, 0], ZC[U == 1, 1], c='b')\n",
    "ax[2].set_xlabel('$x_1$', fontsize=fS)\n",
    "ax[2].set_title('$Target$', fontsize=fS);\n",
    "\n",
    "fig.savefig('viz/2DG_subalign.png', bbox_inches='tight', padding=None)"
   ]
  },
  {
   "cell_type": "markdown",
   "metadata": {},
   "source": [
    "Unsupervised Subspace Alignment matches components, not classes. So, it could be that the classes are flipped. \n",
    "\n",
    "That's also why I think it's a good idea to be working with the semi-supervised variant."
   ]
  },
  {
   "cell_type": "markdown",
   "metadata": {},
   "source": [
    "### All target labels"
   ]
  },
  {
   "cell_type": "code",
   "execution_count": 19,
   "metadata": {},
   "outputs": [],
   "source": [
    "# Estimate class-specific components\n",
    "\n",
    "muXk = np.zeros((K, D))\n",
    "muZk = np.zeros((K, D))\n",
    "CXk = np.zeros((K, D, D))\n",
    "CZk = np.zeros((K, D, D))\n",
    "Vk = np.zeros((K, D, D))\n",
    "\n",
    "for k in range(K):\n",
    "    \n",
    "    # Extract source data from k-th class\n",
    "    Xk = X[Y == k, :]\n",
    "    muXk[k,:] = np.mean(Xk, axis=0)[:,np.newaxis].T\n",
    "    \n",
    "    # Extract target data from k-th class\n",
    "    Zk = Z[U == k, :]\n",
    "    muZk[k,:] = np.mean(Zk, axis=0)[:,np.newaxis].T\n",
    "    \n",
    "    # Extract source class-specific components\n",
    "    aXk, CXk[k] = alg.eig(np.cov((Xk - muXk[k,:]).T))\n",
    "    \n",
    "    # Extract target class-specific components\n",
    "    aZk, CZk[k] = alg.eig(np.cov((Zk - muZk[k,:]).T))\n",
    "    \n",
    "    # Find specific linear transformation matrix\n",
    "    Vk[k] = CXk[k].T @ CZk[k]"
   ]
  },
  {
   "cell_type": "code",
   "execution_count": 20,
   "metadata": {},
   "outputs": [
    {
     "data": {
      "image/png": "[encoded data removed]",
      "text/plain": [
       "<Figure size 1080x288 with 3 Axes>"
      ]
     },
     "metadata": {
      "needs_background": "light"
     },
     "output_type": "display_data"
    }
   ],
   "source": [
    "# Visualize data\n",
    "\n",
    "fig, ax = plt.subplots(ncols=3, sharex=True, sharey=True, figsize=(15,4))\n",
    "\n",
    "XC0 = (X[Y == 0, :] - muXk[0,:]) @ CXk[0] + muXk[0,:]\n",
    "XC1 = (X[Y == 0, :] - muXk[1,:]) @ CXk[1] + muXk[1,:]\n",
    "\n",
    "XV0 = (X[Y == 0, :] - muXk[0,:]) @ CXk[0] @ Vk[0] + muZk[0,:]\n",
    "XV1 = (X[Y == 0, :] - muXk[0,:]) @ CXk[0] @ Vk[1] + muZk[1,:]\n",
    "\n",
    "ZC0 = (Z[U == 0, :] - muZk[0,:]) @ CZk[0] + muZk[0,:]\n",
    "ZC1 = (Z[U == 1, :] - muZk[1,:]) @ CZk[1] + muZk[1,:]\n",
    "\n",
    "ax[0].scatter(XC0[:, 0], XC0[:, 1], c='r')\n",
    "ax[0].scatter(XC1[:, 0], XC1[:, 1], c='b')\n",
    "ax[0].set_xlabel('$x_1$', fontsize=fS)\n",
    "ax[0].set_ylabel('$x_2$', fontsize=fS)\n",
    "ax[0].set_title('$Source$', fontsize=fS)\n",
    "\n",
    "ax[1].scatter(XV0[:, 0], XV0[:, 1], c='r')\n",
    "ax[1].scatter(XV1[:, 0], XV1[:, 1], c='b')\n",
    "ax[1].set_xlabel('$x_1$', fontsize=fS)\n",
    "ax[1].set_title('$Aligned$', fontsize=fS);\n",
    "\n",
    "ax[2].scatter(ZC0[:, 0], ZC0[:, 1], c='r')\n",
    "ax[2].scatter(ZC1[:, 0], ZC1[:, 1], c='b')\n",
    "ax[2].set_xlabel('$x_1$', fontsize=fS)\n",
    "ax[2].set_title('$Target$', fontsize=fS);\n",
    "\n",
    "fig.savefig('viz/2DG_semisubalign_all.png', bbox_inches='tight', padding=None)"
   ]
  },
  {
   "cell_type": "markdown",
   "metadata": {},
   "source": [
    "The semi-supervised variant matches classes as well."
   ]
  },
  {
   "cell_type": "markdown",
   "metadata": {},
   "source": [
    "### 1 target label per class"
   ]
  },
  {
   "cell_type": "code",
   "execution_count": 21,
   "metadata": {},
   "outputs": [],
   "source": [
    "# Select samples to be labeled\n",
    "u = np.zeros((K, 2), dtype='uint8')\n",
    "\n",
    "ix = rnd.choice(np.arange(M), size=1, p=(U==0)/np.sum(U==0))\n",
    "u[0, 0] = ix\n",
    "u[0, 1] = U[ix] \n",
    "                \n",
    "ix = rnd.choice(np.arange(M), size=1, p=(U==1)/np.sum(U==0))\n",
    "u[1, 0] = ix\n",
    "u[1, 1] = U[ix] "
   ]
  },
  {
   "cell_type": "code",
   "execution_count": 22,
   "metadata": {},
   "outputs": [
    {
     "name": "stdout",
     "output_type": "stream",
     "text": [
      "Final regularization parameter = 1e-06\n",
      "Final regularization parameter = 1e-06\n",
      "Final regularization parameter = 1e-06\n",
      "Final regularization parameter = 1e-06\n",
      "Final regularization parameter = 1e-06\n"
     ]
    }
   ],
   "source": [
    "'''Find transformation'''\n",
    "\n",
    "# Call instance of subalign\n",
    "clf = SemiSubspaceAlignedClassifier()\n",
    "\n",
    "# Obtain transformation matrix and components\n",
    "V, CX, CZ = clf.semi_subspace_alignment(X, Y, Z, u, subspace_dim=d)\n",
    "\n",
    "XC = np.zeros((N, d))\n",
    "XV = np.zeros((N, d))\n",
    "\n",
    "# Map target data onto target principal components\n",
    "ZC = Z @ CZ\n",
    "\n",
    "# Align each class\n",
    "for k in range(K):\n",
    "    \n",
    "    # Mean\n",
    "    muXk = np.mean(X[Y == k, :], axis=0, keepdims=1)\n",
    "\n",
    "    # Map source data onto source principal components\n",
    "    XC[Y == k, :] = (X[Y == k, :] - muXk) @ CX[k] + muXk @ CX[k]\n",
    "    \n",
    "    # Map source data onto source principal components and align to target components\n",
    "    XV[Y == k, :] = (X[Y == k, :] - muXk) @ CX[k] @ V[k] + ZC[u[k,0], :]"
   ]
  },
  {
   "cell_type": "code",
   "execution_count": 23,
   "metadata": {},
   "outputs": [
    {
     "data": {
      "image/png": "[encoded data removed]",
      "text/plain": [
       "<Figure size 1080x288 with 3 Axes>"
      ]
     },
     "metadata": {
      "needs_background": "light"
     },
     "output_type": "display_data"
    }
   ],
   "source": [
    "# Visualize data\n",
    "\n",
    "fig, ax = plt.subplots(ncols=3, sharex=True, sharey=True, figsize=(15,4))\n",
    "\n",
    "XC0 = XC[Y == 0, :]\n",
    "XC1 = XC[Y == 1, :]\n",
    "XV0 = XV[Y == 0, :]\n",
    "XV1 = XV[Y == 1, :]\n",
    "ZC0 = ZC[Y == 0, :]\n",
    "ZC1 = ZC[Y == 1, :]\n",
    "\n",
    "ax[0].scatter(XC0[:, 0], XC0[:, 1], c='r')\n",
    "ax[0].scatter(XC1[:, 0], XC1[:, 1], c='b')\n",
    "ax[0].set_xlabel('$x_1$', fontsize=fS)\n",
    "ax[0].set_ylabel('$x_2$', fontsize=fS)\n",
    "ax[0].set_title('$Source$', fontsize=fS)\n",
    "\n",
    "ax[1].scatter(XV0[:, 0], XV0[:, 1], c='r')\n",
    "ax[1].scatter(XV1[:, 0], XV1[:, 1], c='b')\n",
    "ax[1].set_xlabel('$x_1$', fontsize=fS)\n",
    "ax[1].set_title('$Aligned$', fontsize=fS);\n",
    "\n",
    "ax[2].scatter(ZC[:, 0], ZC[:, 1], c='k')\n",
    "ax[2].scatter(ZC[u[0,0], 0], ZC[u[0,0], 1], c='r')\n",
    "ax[2].scatter(ZC[u[1,0], 0], ZC[u[1,0], 1], c='b')\n",
    "ax[2].set_xlabel('$x_1$', fontsize=fS)\n",
    "ax[2].set_title('$Target$', fontsize=fS);\n",
    "\n",
    "fig.savefig('viz/2DG_semisubalign_one.png', bbox_inches='tight', padding=None)"
   ]
  },
  {
   "cell_type": "markdown",
   "metadata": {},
   "source": [
    "The source classes are now matched to the target classes."
   ]
  },
  {
   "cell_type": "code",
   "execution_count": null,
   "metadata": {},
   "outputs": [],
   "source": []
  }
 ],
 "metadata": {
  "kernelspec": {
   "display_name": "Python 3",
   "language": "python",
   "name": "python3"
  },
  "language_info": {
   "codemirror_mode": {
    "name": "ipython",
    "version": 3
   },
   "file_extension": ".py",
   "mimetype": "text/x-python",
   "name": "python",
   "nbconvert_exporter": "python",
   "pygments_lexer": "ipython3",
   "version": "3.7.3"
  }
 },
 "nbformat": 4,
 "nbformat_minor": 2
}
