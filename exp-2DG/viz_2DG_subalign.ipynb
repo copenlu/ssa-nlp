{
 "cells": [
  {
   "cell_type": "markdown",
   "metadata": {},
   "source": [
    "# 2D Gaussians problem setting\n",
    "\n",
    "Visualizing the difference between unsupervised and semi-supervised subspace alignment."
   ]
  },
  {
   "cell_type": "code",
   "execution_count": 31,
   "metadata": {},
   "outputs": [],
   "source": [
    "import numpy as np\n",
    "import numpy.random as rnd\n",
    "import scipy.stats as st\n",
    "import scipy.linalg as alg"
   ]
  },
  {
   "cell_type": "code",
   "execution_count": 32,
   "metadata": {},
   "outputs": [],
   "source": [
    "import sys\n",
    "sys.path.append(\"..\")\n",
    "from subalign import SubspaceAlignedClassifier, SemiSubspaceAlignedClassifier"
   ]
  },
  {
   "cell_type": "code",
   "execution_count": 33,
   "metadata": {},
   "outputs": [],
   "source": [
    "%matplotlib inline\n",
    "import seaborn as sns\n",
    "import matplotlib\n",
    "import matplotlib.pyplot as plt\n",
    "from mpl_toolkits.mplot3d import Axes3D\n",
    "sns.set(style=\"whitegrid\")\n",
    "\n",
    "fS = 24\n",
    "figS2 = (10,5)\n",
    "figS3 = (20,5)\n",
    "font = {'weight' : 'bold', 'size'   : fS}\n",
    "matplotlib.rc('font', **font)\n",
    "\n",
    "clrs = ['r', 'b']"
   ]
  },
  {
   "cell_type": "code",
   "execution_count": 34,
   "metadata": {},
   "outputs": [],
   "source": [
    "'''Generate data'''\n",
    "\n",
    "# Dimensionality\n",
    "D = 2\n",
    "\n",
    "# Subspace dim\n",
    "d = 2\n",
    "\n",
    "# Number of classes\n",
    "K = 2\n",
    "\n",
    "# Sample sizes\n",
    "N = 40\n",
    "N0 = 20\n",
    "N1 = N - N0\n",
    "M = 20\n",
    "M0 = 10\n",
    "M1 = M - M0\n",
    "\n",
    "# Number of target labels\n",
    "Mu = 3\n",
    "\n",
    "muS0 = np.array([-2, -1])\n",
    "muS1 = np.array([2, 1])\n",
    "muT0 = np.array([0, 3])\n",
    "muT1 = np.array([-1, 0])\n",
    "SiS0 = np.array([[6, 0.9],[0.9, 1]])\n",
    "SiS1 = np.array([[6, 0.9],[0.9, 1]])\n",
    "SiT0 = np.array([[1, 0],[0, 1]])\n",
    "SiT1 = np.array([[1, 0],[0, 1]])\n",
    "\n",
    "pS0 = st.multivariate_normal(muS0, SiS0)\n",
    "pS1 = st.multivariate_normal(muS1, SiS1)\n",
    "pT0 = st.multivariate_normal(muT0, SiT0)\n",
    "pT1 = st.multivariate_normal(muT1, SiT1)\n",
    "\n",
    "X = np.concatenate((pS0.rvs(N0), pS1.rvs(N1)), axis=0)\n",
    "Y = np.concatenate((np.zeros((N0,)), np.ones(N1,)), axis=0)\n",
    "\n",
    "Z = np.concatenate((pT0.rvs(M0), pT1.rvs(M1)), axis=0)\n",
    "U = np.concatenate((np.zeros((M0,)), np.ones(M1,)), axis=0)\n",
    "    \n",
    "# Z-score data\n",
    "X = st.zscore(X)\n",
    "Z = st.zscore(Z)"
   ]
  },
  {
   "cell_type": "code",
   "execution_count": 35,
   "metadata": {},
   "outputs": [],
   "source": [
    "'''Select target samples to be labeled'''\n",
    "\n",
    "u = np.zeros((K*Mu, 2), dtype='uint8')\n",
    "u_ = np.zeros((M, K), dtype='bool')\n",
    "\n",
    "for k in range(K):\n",
    "\n",
    "    # Subsample\n",
    "    ix = rnd.choice(np.arange(M), size=Mu, p=(U==k)/np.sum(U==0))\n",
    "    \n",
    "    # Index array\n",
    "    u[k*Mu:(k+1)*Mu, 0] = ix\n",
    "    u[k*Mu:(k+1)*Mu, 1] = k\n",
    "    \n",
    "    # Boolean version\n",
    "    u_[ix, k] = True\n",
    "                "
   ]
  },
  {
   "cell_type": "code",
   "execution_count": 36,
   "metadata": {},
   "outputs": [
    {
     "data": {
      "image/png": "[encoded data removed]",
      "text/plain": [
       "<Figure size 720x360 with 2 Axes>"
      ]
     },
     "metadata": {},
     "output_type": "display_data"
    }
   ],
   "source": [
    "'''Visualize problem setting'''\n",
    "\n",
    "fig = plt.figure(figsize=figS2)        \n",
    "    \n",
    "ax0 = fig.add_subplot(121)\n",
    "\n",
    "ax0.set_xlim([-3,3])\n",
    "ax0.set_ylim([-3,3])\n",
    "\n",
    "ax0.scatter(X[Y == 0, 0], X[Y == 0, 1], c='r', s=120)\n",
    "ax0.scatter(X[Y == 1, 0], X[Y == 1, 1], c='b', s=120)\n",
    "ax0.set_xlabel('$x_1$', fontsize=fS)\n",
    "ax0.set_ylabel('$x_2$', fontsize=fS)\n",
    "\n",
    "ax1 = fig.add_subplot(122, sharex=ax0, sharey=ax0)\n",
    "ax1.scatter(Z[:, 0], Z[:, 1], c='k', s=60)\n",
    "for k in range(K):\n",
    "    ax1.scatter(Z[u_[:,k], 0], Z[u_[:,k], 1], c=clrs[k], s=150)\n",
    "ax1.set_xlabel('$x_1$', fontsize=fS)\n",
    "ax1.set_xticklabels(labels='')\n",
    "ax1.set_yticklabels(labels='')\n",
    "    \n",
    "fig.savefig('viz/2DG_problem-setting.png', bbox_inches='tight', padding=None)\n",
    "fig.savefig('viz/2DG_problem-setting.eps', bbox_inches='tight', padding=None)"
   ]
  },
  {
   "cell_type": "code",
   "execution_count": 37,
   "metadata": {},
   "outputs": [],
   "source": [
    "'''Find principal components'''\n",
    "\n",
    "# Domain means\n",
    "muX = np.mean(X, axis=0)[:, np.newaxis].T\n",
    "muZ = np.mean(Z, axis=0)[:, np.newaxis].T\n",
    "\n",
    "# Centered data\n",
    "X_ = X - muX\n",
    "Z_ = Z - muZ\n",
    "\n",
    "# Estimate principal components manually\n",
    "aX, CX = alg.eig(np.cov(X_.T))\n",
    "aZ, CZ = alg.eig(np.cov(Z_.T))\n",
    "\n",
    "# Sort components on decreasing eigenvalues\n",
    "ixX = np.argsort(aX)[::-1]\n",
    "CX = CX[ixX,:]\n",
    "ixZ = np.argsort(aZ)[::-1]\n",
    "CZ = CZ[ixZ,:]"
   ]
  },
  {
   "cell_type": "code",
   "execution_count": 38,
   "metadata": {},
   "outputs": [],
   "source": [
    "'''Process target data'''\n",
    "\n",
    "# Map target data onto total target components\n",
    "ZC = Z @ CZ"
   ]
  },
  {
   "cell_type": "code",
   "execution_count": 39,
   "metadata": {},
   "outputs": [],
   "source": [
    "'''Unsupervised alignment'''\n",
    "\n",
    "# Optimal linear transformation matrix\n",
    "W = CX.T @ CZ\n",
    "\n",
    "# Map source data onto source principal components and align to target components\n",
    "XW = X @ CX @ W"
   ]
  },
  {
   "cell_type": "code",
   "execution_count": 40,
   "metadata": {},
   "outputs": [
    {
     "name": "stdout",
     "output_type": "stream",
     "text": [
      "Final regularization parameter = 1e-06\n",
      "Final regularization parameter = 1e-06\n",
      "Final regularization parameter = 1e-06\n",
      "Final regularization parameter = 1e-06\n",
      "Final regularization parameter = 1e-06\n"
     ]
    }
   ],
   "source": [
    "'''Semi-supervised alignment'''\n",
    "\n",
    "# Call instance of subalign\n",
    "clf = SemiSubspaceAlignedClassifier()\n",
    "\n",
    "# Obtain transformation matrix and components\n",
    "V, CX, CZ = clf.semi_subspace_alignment(X, Y, Z, u, subspace_dim=d)\n",
    "\n",
    "XC = np.zeros((N, d))\n",
    "XV = np.zeros((N, d))\n",
    "\n",
    "# Align each class\n",
    "for k in range(K):\n",
    "    \n",
    "    # Class means\n",
    "    muXk = np.mean(X[Y == k, :], axis=0)\n",
    "    muZk = np.mean(ZC[u_[:,k], :], axis=0, keepdims=1)\n",
    "    \n",
    "    # Map source data onto source principal components and align to target components\n",
    "    XV[Y == k, :] = (X[Y == k, :] - muXk) @ CX[k] @ V[k] + muZk"
   ]
  },
  {
   "cell_type": "code",
   "execution_count": 41,
   "metadata": {},
   "outputs": [
    {
     "data": {
      "image/png": "[encoded data removed]",
      "text/plain": [
       "<Figure size 1440x360 with 3 Axes>"
      ]
     },
     "metadata": {},
     "output_type": "display_data"
    }
   ],
   "source": [
    "'''Visualize data'''\n",
    "\n",
    "fig, ax = plt.subplots(ncols=3, sharex=True, sharey=True, figsize=figS3)\n",
    "\n",
    "ax[0].set_xlim([-3,3])\n",
    "ax[0].set_ylim([-3,3])\n",
    "\n",
    "XV0 = XV[Y == 0, :]\n",
    "XV1 = XV[Y == 1, :]\n",
    "\n",
    "# Plot unsupervised alignment\n",
    "ax[0].scatter(XW[Y == 0, 0], XW[Y == 0, 1], c='r', s=120)\n",
    "ax[0].scatter(XW[Y == 1, 0], XW[Y == 1, 1], c='b', s=120)\n",
    "ax[0].set_xlabel('$x_1$', fontsize=fS)\n",
    "ax[0].set_ylabel('$x_2$', fontsize=fS)\n",
    "ax[0].set_xticklabels(labels='')\n",
    "ax[0].set_yticklabels(labels='')\n",
    "\n",
    "# Plot semi-supervised alignment\n",
    "ax[1].scatter(XV0[:, 0], XV0[:, 1], c='r', s=120)\n",
    "ax[1].scatter(XV1[:, 0], XV1[:, 1], c='b', s=120)\n",
    "ax[1].set_xlabel('$x_1$', fontsize=fS)\n",
    "ax[1].set_xticklabels(labels='')\n",
    "ax[1].set_yticklabels(labels='')\n",
    "\n",
    "# Plot target data\n",
    "ax[2].scatter(ZC[:, 0], ZC[:, 1], c='k', s=60)\n",
    "for k in range(K):\n",
    "    ax[2].scatter(ZC[u_[:,k], 0], ZC[u_[:,k], 1], c=clrs[k], s=150)\n",
    "ax[2].set_xlabel('$x_1$', fontsize=fS)\n",
    "ax[2].set_xticklabels(labels='')\n",
    "ax[2].set_yticklabels(labels='')\n",
    "\n",
    "fig.savefig('viz/2DG_subalign.png', bbox_inches='tight', padding=None)\n",
    "fig.savefig('viz/2DG_subalign.eps', bbox_inches='tight', padding=None)"
   ]
  }
 ],
 "metadata": {
  "kernelspec": {
   "display_name": "Python 3",
   "language": "python",
   "name": "python3"
  },
  "language_info": {
   "codemirror_mode": {
    "name": "ipython",
    "version": 3
   },
   "file_extension": ".py",
   "mimetype": "text/x-python",
   "name": "python",
   "nbconvert_exporter": "python",
   "pygments_lexer": "ipython3",
   "version": "3.7.3"
  }
 },
 "nbformat": 4,
 "nbformat_minor": 2
}
