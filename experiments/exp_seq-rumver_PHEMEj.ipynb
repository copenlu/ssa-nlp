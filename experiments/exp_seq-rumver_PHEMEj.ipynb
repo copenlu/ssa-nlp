{
 "cells": [
  {
   "cell_type": "markdown",
   "metadata": {},
   "source": [
    "# Rumour veracity prediction through sequential domain adaptation\n",
    "\n",
    "\n",
    "Quoting the website of the PHEME project: \"Social networks are rife with lies and deception, half-truths and facts. But irrespective of a meme’s truthfulness, the rapid spread of such information through social networks and other online media can have immediate and far-reaching consequences. In such cases, large amounts of user-generated content need to be analysed quickly, yet it is not currently possible to carry out such complex analyses in real time.\"\n",
    "\n",
    "For my 'sequential domain adaptation' project I am classification problems where the training and test samples originate from different distributions. This type of scenario occurs often. Knowledge of how classifiers may \"adapt\" to account for differences between underlying distributions is crucial to improving machine learning systems. The main problem in domain adaptation is that the \"domains\" are often very dissimilar, which means that there is a lot of uncertainty about the adaptation step.\n",
    "\n",
    "Instead of adapting to a very dissimilar domain, the problem might be a lot easier if we would find \"intermediate\" domains and perform a sequence of small adaptation steps.\n",
    "\n",
    "\n",
    "Rumours tend to change over time; people discuss different aspects of the story. If we were to characterize expressions using a Bag-of-Words encoding, then one could view this process as a distribution over words that evolves over time. The same is still true for other encodings, but the example is less intuitive.\n",
    "\n",
    "But people sleep. Which means that the change in word-use-statistics is larger _between_ days than _within_ days. It is difficult to classify a continuously changing process, but given a nearly 'piecewise-constant' process, we could learn something about the rumour today, and adapt to the different situtation tomorrow. \n",
    "\n",
    "The PHEME-journalism data set contains tweets of rumours for subsequent days. They are hand-labeled as 'misinformation' or not. I want to explore whether I can improve day-to-day rumour veracity prediction by using domain-adaptive classifiers."
   ]
  },
  {
   "cell_type": "code",
   "execution_count": 1,
   "metadata": {},
   "outputs": [
    {
     "name": "stderr",
     "output_type": "stream",
     "text": [
      "2018-10-22 18:56:25,888 : INFO : 'pattern' package not found; tag filters are not available for English\n"
     ]
    }
   ],
   "source": [
    "import logging\n",
    "logging.basicConfig(format='%(asctime)s : %(levelname)s : %(message)s', level=logging.INFO)\n",
    "\n",
    "import numpy as np\n",
    "import pandas as pd\n",
    "import pickle as pc\n",
    "import gzip as gz\n",
    "\n",
    "from gensim.utils import tokenize\n",
    "from gensim.models import KeyedVectors\n",
    "\n",
    "from sklearn import linear_model\n",
    "from sklearn.feature_extraction.text import CountVectorizer\n",
    "from sklearn.manifold import TSNE\n",
    "from sklearn.decomposition import PCA\n",
    "\n",
    "from libtlda.iw import ImportanceWeightedClassifier"
   ]
  },
  {
   "cell_type": "code",
   "execution_count": 2,
   "metadata": {},
   "outputs": [],
   "source": [
    "import matplotlib.pyplot as plt\n",
    "\n",
    "# Set font size\n",
    "fS = 20"
   ]
  },
  {
   "cell_type": "code",
   "execution_count": 118,
   "metadata": {},
   "outputs": [],
   "source": [
    "# Load data\n",
    "tweets = pd.read_csv('PHEMEj.csv', sep='\\t')"
   ]
  },
  {
   "cell_type": "code",
   "execution_count": 119,
   "metadata": {},
   "outputs": [
    {
     "name": "stdout",
     "output_type": "stream",
     "text": [
      "['charliehebdo' 'ebola-essien' 'ferguson' 'germanwings-crash'\n",
      " 'ottawashooting' 'prince-toronto' 'putinmissing' 'sydneysiege']\n"
     ]
    }
   ],
   "source": [
    "# Select rumours\n",
    "rumours = np.unique(tweets['which_rumour'].astype('str'))\n",
    "print(rumours)"
   ]
  },
  {
   "cell_type": "markdown",
   "metadata": {},
   "source": [
    "Unfortunately, many of the rumours are discussed for less than 3 days or only contain tweets of one class. For now, I'm only using the 'charliehebdo' rumour."
   ]
  },
  {
   "cell_type": "code",
   "execution_count": 120,
   "metadata": {},
   "outputs": [
    {
     "name": "stdout",
     "output_type": "stream",
     "text": [
      "(74, 6)\n"
     ]
    }
   ],
   "source": [
    "# Visualize tweets of rumour 'charliehebdo' for each day\n",
    "\n",
    "# Select tweets\n",
    "tweets_r = tweets[tweets['which_rumour'] == 'charliehebdo']\n",
    "\n",
    "print(tweets_r.shape)"
   ]
  },
  {
   "cell_type": "code",
   "execution_count": 6,
   "metadata": {},
   "outputs": [
    {
     "name": "stderr",
     "output_type": "stream",
     "text": [
      "2018-10-22 18:56:26,671 : INFO : loading projection weights from ../data/GoogleNews-vectors-negative300.bin\n",
      "2018-10-22 18:57:24,381 : INFO : loaded (3000000, 300) matrix from ../data/GoogleNews-vectors-negative300.bin\n"
     ]
    }
   ],
   "source": [
    "# Initialize Google's Word2Vec format\n",
    "model = KeyedVectors.load_word2vec_format('../data/GoogleNews-vectors-negative300.bin', binary=True)  "
   ]
  },
  {
   "cell_type": "code",
   "execution_count": 144,
   "metadata": {},
   "outputs": [
    {
     "name": "stderr",
     "output_type": "stream",
     "text": [
      "/home/wmkouw/anaconda3/lib/python3.6/site-packages/ipykernel_launcher.py:16: DeprecationWarning: Call to deprecated `wv` (Attribute will be removed in 4.0.0, use self instead).\n",
      "  app.launch_new_instance()\n"
     ]
    }
   ],
   "source": [
    "# Map tweet text to Word2Vec\n",
    "\n",
    "# Preallocate text array\n",
    "X = np.zeros((tweets_r.shape[0], 300))\n",
    "\n",
    "# Iterate over tweets\n",
    "for r, tweet in enumerate(tweets_r['content']):\n",
    "    \n",
    "    # Iterate over tokens\n",
    "    vec = 0\n",
    "    num = 0\n",
    "    for token in tokenize(tweet):\n",
    "        \n",
    "        try:\n",
    "            # Add embedding\n",
    "            vec += model.wv[token]\n",
    "            num += 1\n",
    "            \n",
    "        except:\n",
    "            # Skip unknown word\n",
    "            continue\n",
    "    \n",
    "    # Add to array\n",
    "    X[r, :] = vec/num\n",
    "\n",
    "# Obtain labels\n",
    "Y = tweets_r['misinformation'].as_matrix()\n",
    "        "
   ]
  },
  {
   "cell_type": "code",
   "execution_count": 129,
   "metadata": {},
   "outputs": [],
   "source": [
    "# Reduce data dimensionality\n",
    "# X = PCA(n_components=2).fit_transform(X)"
   ]
  },
  {
   "cell_type": "code",
   "execution_count": 155,
   "metadata": {},
   "outputs": [
    {
     "data": {
      "image/png": "[encoded data removed]",
      "text/plain": [
       "<Figure size 1296x360 with 3 Axes>"
      ]
     },
     "metadata": {},
     "output_type": "display_data"
    }
   ],
   "source": [
    "# Visualize tweets for each day\n",
    "\n",
    "# List of days on which was tweeted\n",
    "days = np.unique(tweets_r['created_date'])\n",
    "\n",
    "# T-SNE on data\n",
    "Z = TSNE(n_components=2).fit_transform(X)\n",
    "\n",
    "# Initialize figure\n",
    "fig, ax = plt.subplots(ncols=len(days), figsize=(18,5), sharex=True, sharey=True)\n",
    "\n",
    "# Loop over days\n",
    "for d, day in enumerate(days):\n",
    "    \n",
    "    # Take indices of today\n",
    "    ix_d = (tweets_r['created_date'] == day).values\n",
    "    \n",
    "    # Split data\n",
    "    X_d = Z[ix_d, :]\n",
    "    Y_d = Y[ix_d]\n",
    "\n",
    "    ax[d].scatter(X_d[Y_d == 0, 0], X_d[Y_d == 0, 1], color='r', label='true')\n",
    "    ax[d].scatter(X_d[Y_d == 1, 0], X_d[Y_d == 1, 1], color='b', label='false')\n",
    "    ax[d].set_title(day)\n",
    "    ax[d].set_xlabel('p_1')\n",
    "    ax[d].set_ylabel('p_2')\n",
    "    ax[d].legend()\n",
    "    \n",
    "plt.show()"
   ]
  },
  {
   "cell_type": "markdown",
   "metadata": {},
   "source": [
    "## Naive  classifier\n",
    "\n",
    "I'll first try a naive classifier, for each rumour, on a day-to-day basis."
   ]
  },
  {
   "cell_type": "code",
   "execution_count": 156,
   "metadata": {},
   "outputs": [],
   "source": [
    "# Preallocate performance array\n",
    "perf_array = []\n",
    "days_array = []\n",
    "rums_array = []\n",
    "\n",
    "# Loop over days\n",
    "for d in range(1, len(days)):\n",
    "\n",
    "    # Set range up to yesterday\n",
    "    past = range(d)\n",
    "\n",
    "    # Create training data from all previous days\n",
    "    trn_index = tweets_r['created_date'].isin(days[past]).values.tolist()\n",
    "\n",
    "    # Find all tweets from today\n",
    "    tst_index = (tweets_r['created_date'] == days[d]).values.tolist()\n",
    "\n",
    "    # Split out training data\n",
    "    trn_X = X[trn_index, :]\n",
    "    trn_Y = Y[trn_index]\n",
    "\n",
    "    # Split out test data\n",
    "    tst_X = X[tst_index, :]\n",
    "    tst_Y = Y[tst_index]\n",
    "\n",
    "    # Define classifier\n",
    "    clf = linear_model.LogisticRegression(C=0.1)\n",
    "\n",
    "    # Train classifier on data from previous days\n",
    "    clf.fit(trn_X, trn_Y)\n",
    "\n",
    "    # Make predictions on test set\n",
    "    preds = clf.predict(tst_X)\n",
    "\n",
    "    # Test on data from current day and store\n",
    "    perf_array.append(np.mean(preds == tst_Y))\n",
    "\n",
    "    # Store day and rumour\n",
    "    days_array.append(days[d])\n",
    "\n",
    "# Compact to DataFrame\n",
    "results = pd.DataFrame({'days': days_array,\n",
    "                        'acc_naive': perf_array,})\n"
   ]
  },
  {
   "cell_type": "code",
   "execution_count": 157,
   "metadata": {},
   "outputs": [
    {
     "data": {
      "image/png": "[encoded data removed]",
      "text/plain": [
       "<Figure size 1080x720 with 1 Axes>"
      ]
     },
     "metadata": {},
     "output_type": "display_data"
    }
   ],
   "source": [
    "# Visualize performance in bar graph\n",
    "\n",
    "# Initialize figure\n",
    "fig, ax = plt.subplots(figsize=(15, 10))\n",
    "\n",
    "# Bar plot\n",
    "results.plot.bar(ax=ax, x='days', rot=0, fontsize=fS);\n",
    "\n",
    "# Set axes properties\n",
    "ax.set_ylim([0, 1]);\n",
    "ax.legend(fontsize=fS, loc=2);\n",
    "ax.set_xlabel('days', fontsize=fS);"
   ]
  },
  {
   "cell_type": "markdown",
   "metadata": {},
   "source": [
    "## Adding a standard domain-adaptive classifier\n",
    "\n",
    "I've built a library of domain-adaptive classifiers and transfer learners. I'm just going to use a simple adaptive classifier, to get an impression of its performance."
   ]
  },
  {
   "cell_type": "code",
   "execution_count": 164,
   "metadata": {},
   "outputs": [],
   "source": [
    "# Preallocate performance array\n",
    "perf_array = []\n",
    "\n",
    "# Preallocate importance-weight array (for further analysis)\n",
    "iw = []\n",
    "\n",
    "# Select importance-weight estimator\n",
    "iwe = 'nn'\n",
    "\n",
    "# Loop over days\n",
    "for d in range(1, len(days)):\n",
    "\n",
    "    # Set range up to yesterday\n",
    "    past = range(d)\n",
    "    \n",
    "    # Data from yesterday\n",
    "    yestd = (tweets_r['created_date'] == days[d-1]).values.tolist()\n",
    "        \n",
    "    # Data from all previous days\n",
    "    pastd = tweets_r['created_date'].isin(days[past]).values.tolist()\n",
    "\n",
    "    # Data from today\n",
    "    today = (tweets_r['created_date'] == days[d]).values.tolist()\n",
    "\n",
    "    # Split out training data\n",
    "    trn_X = X[pastd, :]\n",
    "    trn_Y = Y[pastd]\n",
    "\n",
    "    # Split out test data\n",
    "    tst_X = X[today, :]\n",
    "    tst_Y = Y[today]\n",
    "\n",
    "    # Define classifier\n",
    "    clf = ImportanceWeightedClassifier(loss='logistic', iwe=iwe, l2=0.1)\n",
    "    \n",
    "    # Extract importance weights\n",
    "    if iwe == 'nn':\n",
    "        iw.append(clf.iwe_nearest_neighbours(X[yestd, :], X[today, :]))\n",
    "    elif iwe == 'kmm':\n",
    "        iw.append(clf.iwe_kernel_mean_matching(X[yestd, :], X[today, :]))\n",
    "    elif iwe == 'kde':\n",
    "        iw.append(clf.iwe_kernel_densities(X[yestd, :], X[today, :]))\n",
    "\n",
    "    # Train classifier on labeled data from previous days and unlabeled data from today\n",
    "    clf.fit(trn_X, trn_Y, tst_X)\n",
    "\n",
    "    # Make predictions on test set\n",
    "    preds = clf.predict(tst_X)\n",
    "\n",
    "    # Test on data from current day and store\n",
    "    perf_array.append(np.mean(preds == tst_Y))\n",
    "\n",
    "# Compact to DataFrame\n",
    "results['acc_adaptive'] = pd.Series(perf_array, index=results.index)\n",
    "\n",
    "# Add unit weights\n",
    "iw.append(np.ones((np.sum(tweets_r['created_date'] == days[d]), ))/2.)\n"
   ]
  },
  {
   "cell_type": "code",
   "execution_count": 165,
   "metadata": {},
   "outputs": [
    {
     "data": {
      "image/png": "[encoded data removed]",
      "text/plain": [
       "<Figure size 1296x360 with 3 Axes>"
      ]
     },
     "metadata": {},
     "output_type": "display_data"
    }
   ],
   "source": [
    "# Visualize sample weights\n",
    "\n",
    "# Initialize figure\n",
    "fig, ax = plt.subplots(ncols=len(days), figsize=(18,5), sharex=True, sharey=True)\n",
    "\n",
    "# Loop over days\n",
    "for d, day in enumerate(days):\n",
    "    \n",
    "    # Take indices of today\n",
    "    ix_d = (tweets_r['created_date'] == day).values\n",
    "    \n",
    "    # Split data\n",
    "    X_d = Z[ix_d, :]\n",
    "    Y_d = Y[ix_d]\n",
    "\n",
    "    ax[d].scatter(X_d[Y_d == 0, 0], X_d[Y_d == 0, 1], s=iw[d][Y_d == 0]*150, color='r', label='true')\n",
    "    ax[d].scatter(X_d[Y_d == 1, 0], X_d[Y_d == 1, 1], s=iw[d][Y_d == 1]*150, color='b', label='false')\n",
    "    ax[d].set_title(day)\n",
    "    ax[d].set_xlabel('p_1')\n",
    "    ax[d].set_ylabel('p_2')\n",
    "    ax[d].legend()\n",
    "    \n",
    "plt.show()"
   ]
  },
  {
   "cell_type": "code",
   "execution_count": 166,
   "metadata": {},
   "outputs": [
    {
     "data": {
      "image/png": "[encoded data removed]",
      "text/plain": [
       "<Figure size 1080x720 with 1 Axes>"
      ]
     },
     "metadata": {},
     "output_type": "display_data"
    }
   ],
   "source": [
    "# Visualize performance in bar graph\n",
    "\n",
    "# Initialize figure\n",
    "fig, ax = plt.subplots(figsize=(15, 10))\n",
    "\n",
    "# Use pandas to show bar plots\n",
    "results.plot(kind='bar', ax=ax, x='days', rot=0, fontsize=fS);\n",
    "\n",
    "# Set axes properties\n",
    "ax.set_ylim([0, 1]);\n",
    "ax.legend(fontsize=fS, loc=2);\n",
    "ax.set_xlabel('days', fontsize=fS);"
   ]
  },
  {
   "cell_type": "markdown",
   "metadata": {},
   "source": [
    "The importance-weighted logistic regressor seems to improve over the naive logistic regressor."
   ]
  },
  {
   "cell_type": "markdown",
   "metadata": {},
   "source": [
    "## Sequential adaptation\n",
    "\n",
    "The next step would be to set up a sequentially adaptive classifier. My current adaptive classifier optimizes performance with respect to the single source domain (here, data from the previous day). A sequentially adaptive classifier optimizes performance with respect to a sequence of source domains."
   ]
  }
 ],
 "metadata": {
  "kernelspec": {
   "display_name": "Python 3",
   "language": "python",
   "name": "python3"
  },
  "language_info": {
   "codemirror_mode": {
    "name": "ipython",
    "version": 3
   },
   "file_extension": ".py",
   "mimetype": "text/x-python",
   "name": "python",
   "nbconvert_exporter": "python",
   "pygments_lexer": "ipython3",
   "version": "3.6.4"
  }
 },
 "nbformat": 4,
 "nbformat_minor": 2
}
